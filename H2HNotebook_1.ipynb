{
  "nbformat": 4,
  "nbformat_minor": 0,
  "metadata": {
    "kernelspec": {
      "display_name": "Python 3",
      "language": "python",
      "name": "python3"
    },
    "language_info": {
      "codemirror_mode": {
        "name": "ipython",
        "version": 3
      },
      "file_extension": ".py",
      "mimetype": "text/x-python",
      "name": "python",
      "nbconvert_exporter": "python",
      "pygments_lexer": "ipython3",
      "version": "3.7.6"
    },
    "colab": {
      "name": "Notebook-1.ipynb",
      "provenance": [],
      "include_colab_link": true
    }
  },
  "cells": [
    {
      "cell_type": "markdown",
      "metadata": {
        "id": "view-in-github",
        "colab_type": "text"
      },
      "source": [
        "<a href=\"https://colab.research.google.com/github/IshanGoswami3/IshanGoswami3/blob/main/H2HNotebook_1.ipynb\" target=\"_parent\"><img src=\"https://colab.research.google.com/assets/colab-badge.svg\" alt=\"Open In Colab\"/></a>"
      ]
    },
    {
      "cell_type": "markdown",
      "metadata": {
        "id": "iHOvAN75NGCs"
      },
      "source": [
        "BASIC INTRODUCTION TO LISTS,TUPLES,DICTIONARY,ITERABLES"
      ]
    },
    {
      "cell_type": "code",
      "metadata": {
        "id": "1OOD9XqPNGCz",
        "outputId": "fe49729c-48d3-4bb0-e7d0-8037d3dd57e4",
        "colab": {
          "base_uri": "https://localhost:8080/"
        }
      },
      "source": [
        "# list can be thought of as an array of elements\n",
        "\n",
        "\n",
        "li = [] # empty list\n",
        "\n",
        "# adding some elements in a list using append method\n",
        "\n",
        "li.append(1)\n",
        "li.append(2)\n",
        "li.append(3)\n",
        "\n",
        "print(li)"
      ],
      "execution_count": 1,
      "outputs": [
        {
          "output_type": "stream",
          "text": [
            "[1, 2, 3]\n"
          ],
          "name": "stdout"
        }
      ]
    },
    {
      "cell_type": "code",
      "metadata": {
        "id": "8sSMc8o7NGC3",
        "outputId": "c3a23417-2e51-4aac-90a4-4a3c472c41f6"
      },
      "source": [
        "# We can add elements of different types as well\n",
        "\n",
        "li.append('batman')\n",
        "li.append('superman')\n",
        "\n",
        "print(li)"
      ],
      "execution_count": null,
      "outputs": [
        {
          "output_type": "stream",
          "text": [
            "[1, 2, 3, 'batman', 'superman']\n"
          ],
          "name": "stdout"
        }
      ]
    },
    {
      "cell_type": "code",
      "metadata": {
        "id": "59q0yePINGC5",
        "outputId": "c4cd8397-92d2-46bc-e120-345b8ebb8f7b"
      },
      "source": [
        "# To access any element in a list, we simply index it using its position\n",
        "# Remember indexing starts from 0\n",
        "\n",
        "\n",
        "# let us fetch the record superman\n",
        "\n",
        "print(li[4]) "
      ],
      "execution_count": null,
      "outputs": [
        {
          "output_type": "stream",
          "text": [
            "superman\n"
          ],
          "name": "stdout"
        }
      ]
    },
    {
      "cell_type": "code",
      "metadata": {
        "id": "WzaM_aiPNGC7",
        "outputId": "88d7ef73-8253-422a-f62f-52d651949fd2"
      },
      "source": [
        "# We can change any entry in the list using the = operator\n",
        "\n",
        "\n",
        "li[4] = 'aquaman'\n",
        "\n",
        "print(li)"
      ],
      "execution_count": null,
      "outputs": [
        {
          "output_type": "stream",
          "text": [
            "[1, 2, 3, 'batman', 'aquaman']\n"
          ],
          "name": "stdout"
        }
      ]
    },
    {
      "cell_type": "code",
      "metadata": {
        "id": "qSq-UR11NGC8",
        "outputId": "6f1d1d56-5fd1-4376-c95f-e8e1f895cb28"
      },
      "source": [
        "# Tuples - Just like lists tuples also are a collection of data points. But once created we cannot modify them(like add,update)\n",
        "\n",
        "tu = (1,2,3)\n",
        "print(tu)\n",
        "\n",
        "print(hex(id(tu))) # Notice the address here"
      ],
      "execution_count": null,
      "outputs": [
        {
          "output_type": "stream",
          "text": [
            "(1, 2, 3)\n",
            "0x1a37693e1d8\n"
          ],
          "name": "stdout"
        }
      ]
    },
    {
      "cell_type": "code",
      "metadata": {
        "id": "Zhjq6OOaNGC9"
      },
      "source": [
        "tu = tu + (4,) # We can merge tuples but it creates a new one actually internally"
      ],
      "execution_count": null,
      "outputs": []
    },
    {
      "cell_type": "code",
      "metadata": {
        "id": "FocZ8o3PNGC-",
        "outputId": "c258f6aa-b7ac-41de-847a-a276532d69e8"
      },
      "source": [
        "tu"
      ],
      "execution_count": null,
      "outputs": [
        {
          "output_type": "execute_result",
          "data": {
            "text/plain": [
              "(1, 2, 3, 4)"
            ]
          },
          "metadata": {
            "tags": []
          },
          "execution_count": 25
        }
      ]
    },
    {
      "cell_type": "code",
      "metadata": {
        "id": "CmPQiazdNGDB",
        "outputId": "918b69a4-0729-4707-d19a-3d2f924d301e"
      },
      "source": [
        "hex(id(tu)) # see this is a new address"
      ],
      "execution_count": null,
      "outputs": [
        {
          "output_type": "execute_result",
          "data": {
            "text/plain": [
              "'0x1a376abf2c8'"
            ]
          },
          "metadata": {
            "tags": []
          },
          "execution_count": 26
        }
      ]
    },
    {
      "cell_type": "code",
      "metadata": {
        "id": "KZk3goaiNGDC",
        "outputId": "4d46d481-ad32-4c55-dd5e-6df7a6980821"
      },
      "source": [
        "# Set - Collection of elements again. But set only stores unique elements\n",
        "\n",
        "\n",
        "st = set()\n",
        "st.add(1)\n",
        "st.add(1)\n",
        "st.add(2)\n",
        "st.add(3)\n",
        "\n",
        "print(st)"
      ],
      "execution_count": null,
      "outputs": [
        {
          "output_type": "stream",
          "text": [
            "{1, 2, 3}\n"
          ],
          "name": "stdout"
        }
      ]
    },
    {
      "cell_type": "code",
      "metadata": {
        "id": "FQgp6fGhNGDD",
        "outputId": "6ed3f5c0-2a1d-4f0d-aec1-e262b1c2a6c7",
        "colab": {
          "base_uri": "https://localhost:8080/"
        }
      },
      "source": [
        "# Dictionary stores the elements in a key value pair.\n",
        "\n",
        "mapper = {}\n",
        "\n",
        "mapper['dc'] = 'batman'\n",
        "mapper['marvel'] = 'wolverine'\n",
        "mapper['starwars'] = 'anakin'\n",
        "\n",
        "\n",
        "print(mapper)"
      ],
      "execution_count": 4,
      "outputs": [
        {
          "output_type": "stream",
          "text": [
            "{'dc': 'batman', 'marvel': 'wolverine', 'starwars': 'anakin'}\n"
          ],
          "name": "stdout"
        }
      ]
    },
    {
      "cell_type": "code",
      "metadata": {
        "id": "qzyZU2P7NGDF",
        "outputId": "aa2cc929-116a-44c1-a3e6-dcc34e24b2d6",
        "colab": {
          "base_uri": "https://localhost:8080/"
        }
      },
      "source": [
        "# Looping in the elements\n",
        "\n",
        "for k,v in mapper.items():\n",
        "    print(k,v)"
      ],
      "execution_count": 5,
      "outputs": [
        {
          "output_type": "stream",
          "text": [
            "dc batman\n",
            "marvel wolverine\n",
            "starwars anakin\n"
          ],
          "name": "stdout"
        }
      ]
    },
    {
      "cell_type": "code",
      "metadata": {
        "id": "LP8CRfQGNGDG",
        "outputId": "ced5b89a-cf5b-4bc1-deac-97a7ec94a091",
        "colab": {
          "base_uri": "https://localhost:8080/"
        }
      },
      "source": [
        "# Let's see the keys and values of the mapper\n",
        "\n",
        "print(mapper.keys())\n",
        "print(mapper.values())"
      ],
      "execution_count": 6,
      "outputs": [
        {
          "output_type": "stream",
          "text": [
            "dict_keys(['dc', 'marvel', 'starwars'])\n",
            "dict_values(['batman', 'wolverine', 'anakin'])\n"
          ],
          "name": "stdout"
        }
      ]
    },
    {
      "cell_type": "code",
      "metadata": {
        "id": "opRLbSV5NGDH"
      },
      "source": [
        ""
      ],
      "execution_count": null,
      "outputs": []
    }
  ]
}