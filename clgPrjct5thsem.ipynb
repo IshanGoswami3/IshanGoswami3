{
  "nbformat": 4,
  "nbformat_minor": 0,
  "metadata": {
    "colab": {
      "name": "clgPrjct5thsem.ipynb",
      "provenance": [],
      "collapsed_sections": [],
      "include_colab_link": true
    },
    "kernelspec": {
      "display_name": "Python 3",
      "name": "python3"
    }
  },
  "cells": [
    {
      "cell_type": "markdown",
      "metadata": {
        "id": "view-in-github",
        "colab_type": "text"
      },
      "source": [
        "<a href=\"https://colab.research.google.com/github/IshanGoswami3/IshanGoswami3/blob/main/clgPrjct5thsem.ipynb\" target=\"_parent\"><img src=\"https://colab.research.google.com/assets/colab-badge.svg\" alt=\"Open In Colab\"/></a>"
      ]
    },
    {
      "cell_type": "markdown",
      "metadata": {
        "id": "JxURDjeUqQU4"
      },
      "source": [
        "Uploading the folder.zip file"
      ]
    },
    {
      "cell_type": "code",
      "metadata": {
        "colab": {
          "base_uri": "https://localhost:8080/"
        },
        "id": "By0IIjY9GaDF",
        "outputId": "46b982e0-5956-4f9f-e67e-42a6ce8c1665"
      },
      "source": [
        "!unzip clgPrjct5thsem_RhomSquData.zip"
      ],
      "execution_count": null,
      "outputs": [
        {
          "output_type": "stream",
          "text": [
            "Archive:  clgPrjct5thsem_RhomSquData.zip\n",
            "replace clgPrjct5thsem_RhomSquData/Rhombus/Rhombus(1).jpg? [y]es, [n]o, [A]ll, [N]one, [r]ename: A\n",
            "  inflating: clgPrjct5thsem_RhomSquData/Rhombus/Rhombus(1).jpg  \n",
            "  inflating: clgPrjct5thsem_RhomSquData/Rhombus/Rhombus(1).png  \n",
            "  inflating: clgPrjct5thsem_RhomSquData/Rhombus/Rhombus(10).jpg  \n",
            "  inflating: clgPrjct5thsem_RhomSquData/Rhombus/Rhombus(10).png  \n",
            "  inflating: clgPrjct5thsem_RhomSquData/Rhombus/Rhombus(11).jpg  \n",
            "  inflating: clgPrjct5thsem_RhomSquData/Rhombus/Rhombus(11).png  \n",
            "  inflating: clgPrjct5thsem_RhomSquData/Rhombus/Rhombus(12).jpg  \n",
            "  inflating: clgPrjct5thsem_RhomSquData/Rhombus/Rhombus(12).png  \n",
            "  inflating: clgPrjct5thsem_RhomSquData/Rhombus/Rhombus(13).jpg  \n",
            "  inflating: clgPrjct5thsem_RhomSquData/Rhombus/Rhombus(13).png  \n",
            "  inflating: clgPrjct5thsem_RhomSquData/Rhombus/Rhombus(14).jpg  \n",
            "  inflating: clgPrjct5thsem_RhomSquData/Rhombus/Rhombus(14).png  \n",
            "  inflating: clgPrjct5thsem_RhomSquData/Rhombus/Rhombus(15).jpg  \n",
            "  inflating: clgPrjct5thsem_RhomSquData/Rhombus/Rhombus(15).png  \n",
            "  inflating: clgPrjct5thsem_RhomSquData/Rhombus/Rhombus(16).jpg  \n",
            "  inflating: clgPrjct5thsem_RhomSquData/Rhombus/Rhombus(16).png  \n",
            "  inflating: clgPrjct5thsem_RhomSquData/Rhombus/Rhombus(17).png  \n",
            "  inflating: clgPrjct5thsem_RhomSquData/Rhombus/Rhombus(18).png  \n",
            "  inflating: clgPrjct5thsem_RhomSquData/Rhombus/Rhombus(19).png  \n",
            "  inflating: clgPrjct5thsem_RhomSquData/Rhombus/Rhombus(2).jpg  \n",
            "  inflating: clgPrjct5thsem_RhomSquData/Rhombus/Rhombus(2).png  \n",
            "  inflating: clgPrjct5thsem_RhomSquData/Rhombus/Rhombus(20).png  \n",
            "  inflating: clgPrjct5thsem_RhomSquData/Rhombus/Rhombus(21).png  \n",
            "  inflating: clgPrjct5thsem_RhomSquData/Rhombus/Rhombus(22).png  \n",
            "  inflating: clgPrjct5thsem_RhomSquData/Rhombus/Rhombus(23).png  \n",
            "  inflating: clgPrjct5thsem_RhomSquData/Rhombus/Rhombus(24).png  \n",
            "  inflating: clgPrjct5thsem_RhomSquData/Rhombus/Rhombus(25).png  \n",
            "  inflating: clgPrjct5thsem_RhomSquData/Rhombus/Rhombus(26).png  \n",
            "  inflating: clgPrjct5thsem_RhomSquData/Rhombus/Rhombus(27).png  \n",
            "  inflating: clgPrjct5thsem_RhomSquData/Rhombus/Rhombus(28).png  \n",
            "  inflating: clgPrjct5thsem_RhomSquData/Rhombus/Rhombus(29).png  \n",
            "  inflating: clgPrjct5thsem_RhomSquData/Rhombus/Rhombus(3).jpg  \n",
            "  inflating: clgPrjct5thsem_RhomSquData/Rhombus/Rhombus(3).png  \n",
            "  inflating: clgPrjct5thsem_RhomSquData/Rhombus/Rhombus(30).png  \n",
            "  inflating: clgPrjct5thsem_RhomSquData/Rhombus/Rhombus(31).png  \n",
            "  inflating: clgPrjct5thsem_RhomSquData/Rhombus/Rhombus(32).png  \n",
            "  inflating: clgPrjct5thsem_RhomSquData/Rhombus/Rhombus(33).png  \n",
            "  inflating: clgPrjct5thsem_RhomSquData/Rhombus/Rhombus(34).png  \n",
            "  inflating: clgPrjct5thsem_RhomSquData/Rhombus/Rhombus(35).png  \n",
            "  inflating: clgPrjct5thsem_RhomSquData/Rhombus/Rhombus(36).png  \n",
            "  inflating: clgPrjct5thsem_RhomSquData/Rhombus/Rhombus(37).png  \n",
            "  inflating: clgPrjct5thsem_RhomSquData/Rhombus/Rhombus(38).png  \n",
            "  inflating: clgPrjct5thsem_RhomSquData/Rhombus/Rhombus(39).png  \n",
            "  inflating: clgPrjct5thsem_RhomSquData/Rhombus/Rhombus(4).jpg  \n",
            "  inflating: clgPrjct5thsem_RhomSquData/Rhombus/Rhombus(4).png  \n",
            "  inflating: clgPrjct5thsem_RhomSquData/Rhombus/Rhombus(40).png  \n",
            "  inflating: clgPrjct5thsem_RhomSquData/Rhombus/Rhombus(41).png  \n",
            "  inflating: clgPrjct5thsem_RhomSquData/Rhombus/Rhombus(42).png  \n",
            "  inflating: clgPrjct5thsem_RhomSquData/Rhombus/Rhombus(43).png  \n",
            "  inflating: clgPrjct5thsem_RhomSquData/Rhombus/Rhombus(44).png  \n",
            "  inflating: clgPrjct5thsem_RhomSquData/Rhombus/Rhombus(45).png  \n",
            "  inflating: clgPrjct5thsem_RhomSquData/Rhombus/Rhombus(46).png  \n",
            "  inflating: clgPrjct5thsem_RhomSquData/Rhombus/Rhombus(47).png  \n",
            "  inflating: clgPrjct5thsem_RhomSquData/Rhombus/Rhombus(48).png  \n",
            "  inflating: clgPrjct5thsem_RhomSquData/Rhombus/Rhombus(49).png  \n",
            "  inflating: clgPrjct5thsem_RhomSquData/Rhombus/Rhombus(5).jpg  \n",
            "  inflating: clgPrjct5thsem_RhomSquData/Rhombus/Rhombus(5).png  \n",
            "  inflating: clgPrjct5thsem_RhomSquData/Rhombus/Rhombus(50).png  \n",
            "  inflating: clgPrjct5thsem_RhomSquData/Rhombus/Rhombus(51).png  \n",
            "  inflating: clgPrjct5thsem_RhomSquData/Rhombus/Rhombus(52).png  \n",
            "  inflating: clgPrjct5thsem_RhomSquData/Rhombus/Rhombus(53).png  \n",
            "  inflating: clgPrjct5thsem_RhomSquData/Rhombus/Rhombus(54).png  \n",
            "  inflating: clgPrjct5thsem_RhomSquData/Rhombus/Rhombus(55).png  \n",
            "  inflating: clgPrjct5thsem_RhomSquData/Rhombus/Rhombus(56).png  \n",
            "  inflating: clgPrjct5thsem_RhomSquData/Rhombus/Rhombus(57).png  \n",
            "  inflating: clgPrjct5thsem_RhomSquData/Rhombus/Rhombus(58).png  \n",
            "  inflating: clgPrjct5thsem_RhomSquData/Rhombus/Rhombus(59).png  \n",
            "  inflating: clgPrjct5thsem_RhomSquData/Rhombus/Rhombus(6).jpg  \n",
            "  inflating: clgPrjct5thsem_RhomSquData/Rhombus/Rhombus(6).png  \n",
            "  inflating: clgPrjct5thsem_RhomSquData/Rhombus/Rhombus(60).png  \n",
            "  inflating: clgPrjct5thsem_RhomSquData/Rhombus/Rhombus(61).png  \n",
            "  inflating: clgPrjct5thsem_RhomSquData/Rhombus/Rhombus(62).png  \n",
            "  inflating: clgPrjct5thsem_RhomSquData/Rhombus/Rhombus(63).png  \n",
            "  inflating: clgPrjct5thsem_RhomSquData/Rhombus/Rhombus(64).png  \n",
            "  inflating: clgPrjct5thsem_RhomSquData/Rhombus/Rhombus(65).png  \n",
            "  inflating: clgPrjct5thsem_RhomSquData/Rhombus/Rhombus(66).png  \n",
            "  inflating: clgPrjct5thsem_RhomSquData/Rhombus/Rhombus(67).png  \n",
            "  inflating: clgPrjct5thsem_RhomSquData/Rhombus/Rhombus(68).png  \n",
            "  inflating: clgPrjct5thsem_RhomSquData/Rhombus/Rhombus(69).png  \n",
            "  inflating: clgPrjct5thsem_RhomSquData/Rhombus/Rhombus(7).jpg  \n",
            "  inflating: clgPrjct5thsem_RhomSquData/Rhombus/Rhombus(7).png  \n",
            "  inflating: clgPrjct5thsem_RhomSquData/Rhombus/Rhombus(70).png  \n",
            "  inflating: clgPrjct5thsem_RhomSquData/Rhombus/Rhombus(71).png  \n",
            "  inflating: clgPrjct5thsem_RhomSquData/Rhombus/Rhombus(72).png  \n",
            "  inflating: clgPrjct5thsem_RhomSquData/Rhombus/Rhombus(73).png  \n",
            "  inflating: clgPrjct5thsem_RhomSquData/Rhombus/Rhombus(74).png  \n",
            "  inflating: clgPrjct5thsem_RhomSquData/Rhombus/Rhombus(8).jpg  \n",
            "  inflating: clgPrjct5thsem_RhomSquData/Rhombus/Rhombus(8).png  \n",
            "  inflating: clgPrjct5thsem_RhomSquData/Rhombus/Rhombus(9).jpg  \n",
            "  inflating: clgPrjct5thsem_RhomSquData/Rhombus/Rhombus(9).png  \n",
            "  inflating: clgPrjct5thsem_RhomSquData/Square/Square(1) - Copy.png  \n",
            "  inflating: clgPrjct5thsem_RhomSquData/Square/Square(1).png  \n",
            "  inflating: clgPrjct5thsem_RhomSquData/Square/Square(10) - Copy.png  \n",
            "  inflating: clgPrjct5thsem_RhomSquData/Square/Square(10).png  \n",
            "  inflating: clgPrjct5thsem_RhomSquData/Square/Square(11) - Copy.png  \n",
            "  inflating: clgPrjct5thsem_RhomSquData/Square/Square(11).png  \n",
            "  inflating: clgPrjct5thsem_RhomSquData/Square/Square(12) - Copy.png  \n",
            "  inflating: clgPrjct5thsem_RhomSquData/Square/Square(12).png  \n",
            "  inflating: clgPrjct5thsem_RhomSquData/Square/Square(13) - Copy.png  \n",
            "  inflating: clgPrjct5thsem_RhomSquData/Square/Square(13).png  \n",
            "  inflating: clgPrjct5thsem_RhomSquData/Square/Square(14) - Copy.png  \n",
            "  inflating: clgPrjct5thsem_RhomSquData/Square/Square(14).png  \n",
            "  inflating: clgPrjct5thsem_RhomSquData/Square/Square(15) - Copy.png  \n",
            "  inflating: clgPrjct5thsem_RhomSquData/Square/Square(15).png  \n",
            "  inflating: clgPrjct5thsem_RhomSquData/Square/Square(16) - Copy.png  \n",
            "  inflating: clgPrjct5thsem_RhomSquData/Square/Square(16).png  \n",
            "  inflating: clgPrjct5thsem_RhomSquData/Square/Square(17) - Copy.png  \n",
            "  inflating: clgPrjct5thsem_RhomSquData/Square/Square(17).png  \n",
            "  inflating: clgPrjct5thsem_RhomSquData/Square/Square(18) - Copy.png  \n",
            "  inflating: clgPrjct5thsem_RhomSquData/Square/Square(18).png  \n",
            "  inflating: clgPrjct5thsem_RhomSquData/Square/Square(19) - Copy.png  \n",
            "  inflating: clgPrjct5thsem_RhomSquData/Square/Square(19).png  \n",
            "  inflating: clgPrjct5thsem_RhomSquData/Square/Square(2) - Copy.png  \n",
            "  inflating: clgPrjct5thsem_RhomSquData/Square/Square(2).png  \n",
            "  inflating: clgPrjct5thsem_RhomSquData/Square/Square(20) - Copy.png  \n",
            "  inflating: clgPrjct5thsem_RhomSquData/Square/Square(20).png  \n",
            "  inflating: clgPrjct5thsem_RhomSquData/Square/Square(21) - Copy.png  \n",
            "  inflating: clgPrjct5thsem_RhomSquData/Square/Square(21).png  \n",
            "  inflating: clgPrjct5thsem_RhomSquData/Square/Square(22) - Copy.png  \n",
            "  inflating: clgPrjct5thsem_RhomSquData/Square/Square(22).png  \n",
            "  inflating: clgPrjct5thsem_RhomSquData/Square/Square(23) - Copy.png  \n",
            "  inflating: clgPrjct5thsem_RhomSquData/Square/Square(23).png  \n",
            "  inflating: clgPrjct5thsem_RhomSquData/Square/Square(24) - Copy.png  \n",
            "  inflating: clgPrjct5thsem_RhomSquData/Square/Square(24).png  \n",
            "  inflating: clgPrjct5thsem_RhomSquData/Square/Square(25) - Copy.png  \n",
            "  inflating: clgPrjct5thsem_RhomSquData/Square/Square(25).png  \n",
            "  inflating: clgPrjct5thsem_RhomSquData/Square/Square(26) - Copy.png  \n",
            "  inflating: clgPrjct5thsem_RhomSquData/Square/Square(26).png  \n",
            "  inflating: clgPrjct5thsem_RhomSquData/Square/Square(27) - Copy.png  \n",
            "  inflating: clgPrjct5thsem_RhomSquData/Square/Square(27).png  \n",
            "  inflating: clgPrjct5thsem_RhomSquData/Square/Square(28) - Copy.png  \n",
            "  inflating: clgPrjct5thsem_RhomSquData/Square/Square(28).png  \n",
            "  inflating: clgPrjct5thsem_RhomSquData/Square/Square(29) - Copy.png  \n",
            "  inflating: clgPrjct5thsem_RhomSquData/Square/Square(29).png  \n",
            "  inflating: clgPrjct5thsem_RhomSquData/Square/Square(3) - Copy.png  \n",
            "  inflating: clgPrjct5thsem_RhomSquData/Square/Square(3).png  \n",
            "  inflating: clgPrjct5thsem_RhomSquData/Square/Square(30) - Copy.png  \n",
            "  inflating: clgPrjct5thsem_RhomSquData/Square/Square(30).png  \n",
            "  inflating: clgPrjct5thsem_RhomSquData/Square/Square(31).png  \n",
            "  inflating: clgPrjct5thsem_RhomSquData/Square/Square(32).png  \n",
            "  inflating: clgPrjct5thsem_RhomSquData/Square/Square(33).png  \n",
            "  inflating: clgPrjct5thsem_RhomSquData/Square/Square(34).png  \n",
            "  inflating: clgPrjct5thsem_RhomSquData/Square/Square(35).png  \n",
            "  inflating: clgPrjct5thsem_RhomSquData/Square/Square(36).png  \n",
            "  inflating: clgPrjct5thsem_RhomSquData/Square/Square(37).png  \n",
            "  inflating: clgPrjct5thsem_RhomSquData/Square/Square(38).png  \n",
            "  inflating: clgPrjct5thsem_RhomSquData/Square/Square(39).png  \n",
            "  inflating: clgPrjct5thsem_RhomSquData/Square/Square(4) - Copy.png  \n",
            "  inflating: clgPrjct5thsem_RhomSquData/Square/Square(4).png  \n",
            "  inflating: clgPrjct5thsem_RhomSquData/Square/Square(40).png  \n",
            "  inflating: clgPrjct5thsem_RhomSquData/Square/Square(41).png  \n",
            "  inflating: clgPrjct5thsem_RhomSquData/Square/Square(42).png  \n",
            "  inflating: clgPrjct5thsem_RhomSquData/Square/Square(43).png  \n",
            "  inflating: clgPrjct5thsem_RhomSquData/Square/Square(44).png  \n",
            "  inflating: clgPrjct5thsem_RhomSquData/Square/Square(45).png  \n",
            "  inflating: clgPrjct5thsem_RhomSquData/Square/Square(46).png  \n",
            "  inflating: clgPrjct5thsem_RhomSquData/Square/Square(47).png  \n",
            "  inflating: clgPrjct5thsem_RhomSquData/Square/Square(48).png  \n",
            "  inflating: clgPrjct5thsem_RhomSquData/Square/Square(49).png  \n",
            "  inflating: clgPrjct5thsem_RhomSquData/Square/Square(5) - Copy.png  \n",
            "  inflating: clgPrjct5thsem_RhomSquData/Square/Square(5).png  \n",
            "  inflating: clgPrjct5thsem_RhomSquData/Square/Square(50).png  \n",
            "  inflating: clgPrjct5thsem_RhomSquData/Square/Square(51).png  \n",
            "  inflating: clgPrjct5thsem_RhomSquData/Square/Square(52).png  \n",
            "  inflating: clgPrjct5thsem_RhomSquData/Square/Square(53).png  \n",
            "  inflating: clgPrjct5thsem_RhomSquData/Square/Square(54).png  \n",
            "  inflating: clgPrjct5thsem_RhomSquData/Square/Square(55).png  \n",
            "  inflating: clgPrjct5thsem_RhomSquData/Square/Square(56).png  \n",
            "  inflating: clgPrjct5thsem_RhomSquData/Square/Square(57).png  \n",
            "  inflating: clgPrjct5thsem_RhomSquData/Square/Square(58).png  \n",
            "  inflating: clgPrjct5thsem_RhomSquData/Square/Square(59).png  \n",
            "  inflating: clgPrjct5thsem_RhomSquData/Square/Square(6) - Copy.png  \n",
            "  inflating: clgPrjct5thsem_RhomSquData/Square/Square(6).png  \n",
            "  inflating: clgPrjct5thsem_RhomSquData/Square/Square(60).png  \n",
            "  inflating: clgPrjct5thsem_RhomSquData/Square/Square(7) - Copy.png  \n",
            "  inflating: clgPrjct5thsem_RhomSquData/Square/Square(7).png  \n",
            "  inflating: clgPrjct5thsem_RhomSquData/Square/Square(8) - Copy.png  \n",
            "  inflating: clgPrjct5thsem_RhomSquData/Square/Square(8).png  \n",
            "  inflating: clgPrjct5thsem_RhomSquData/Square/Square(9) - Copy.png  \n",
            "  inflating: clgPrjct5thsem_RhomSquData/Square/Square(9).png  \n"
          ],
          "name": "stdout"
        }
      ]
    },
    {
      "cell_type": "markdown",
      "metadata": {
        "id": "O8HhTLutqwlE"
      },
      "source": [
        "Testing and training the model.(part 1)"
      ]
    },
    {
      "cell_type": "code",
      "metadata": {
        "id": "zYEHZM-febcV"
      },
      "source": [
        "import numpy as np\n",
        "import os\n",
        "from matplotlib import pyplot as plt\n",
        "import cv2\n",
        "import random\n",
        "import pickle\n",
        "file_list = []\n",
        "class_list = []\n",
        " \n",
        "DATADIR=\"clgPrjct5thsem_RhomSquData\"\n",
        "# All the categories you want your neural network to detect\n",
        "CATEGORIES = [\"Rhombus\", \"Square\"]\n",
        " \n",
        " \n",
        "# The size of the images that your neural network will use\n",
        "IMG_SIZE = 50\n",
        " \n",
        " \n",
        "# Checking or all images in the data folder\n",
        "for category in CATEGORIES :\n",
        "    path = os.path.join(DATADIR, category)\n",
        "    for img in os.listdir(path):\n",
        "        img_array = cv2.imread(os.path.join(path, img), cv2.IMREAD_GRAYSCALE)\n",
        " \n",
        "training_data = []\n",
        "def create_training_data():\n",
        "    for category in CATEGORIES :\n",
        "        path = os.path.join(DATADIR, category)\n",
        "        class_num = CATEGORIES.index(category)\n",
        "        for img in os.listdir(path):\n",
        "            try :\n",
        "                img_array = cv2.imread(os.path.join(path, img), cv2.IMREAD_GRAYSCALE)\n",
        "                new_array = cv2.resize(img_array, (IMG_SIZE, IMG_SIZE))\n",
        "                training_data.append([new_array, class_num])\n",
        "            except Exception as e:\n",
        "                pass\n",
        " \n",
        "create_training_data()\n",
        " \n",
        "random.shuffle(training_data)\n",
        " \n",
        "X = [] #features\n",
        "y = [] #labels\n",
        " \n",
        "for features, label in training_data:\n",
        "    X.append(features)\n",
        "    y.append(label)\n",
        " \n",
        "X = np.array(X).reshape(-1,IMG_SIZE, IMG_SIZE, 1)\n",
        "y = np.array(y)\n",
        " \n",
        " \n",
        " \n",
        "# Creating the files containing all the information about  model\n",
        "pickle_out = open(\"X.pickle\", \"wb\")\n",
        "pickle.dump(X, pickle_out)\n",
        "pickle_out.close()\n",
        " \n",
        "pickle_out = open(\"y.pickle\", \"wb\")\n",
        "pickle.dump(y, pickle_out)\n",
        "pickle_out.close()\n",
        " \n",
        "pickle_in = open(\"X.pickle\", \"rb\")\n",
        "X = pickle.load(pickle_in)"
      ],
      "execution_count": null,
      "outputs": []
    },
    {
      "cell_type": "markdown",
      "metadata": {
        "id": "xSwkn-0vrOGg"
      },
      "source": [
        "Testing and training the model.(part 2)"
      ]
    },
    {
      "cell_type": "code",
      "metadata": {
        "colab": {
          "base_uri": "https://localhost:8080/"
        },
        "id": "MJs5BID7e5u7",
        "outputId": "563e4c35-a9c6-41df-eda4-a1acc57e5064"
      },
      "source": [
        " import tensorflow as tf \n",
        "from tensorflow.keras.models import Sequential\n",
        "from tensorflow.keras.layers import Dense, Dropout, Activation, Flatten, Conv2D, MaxPooling2D\n",
        "import pickle\n",
        "from keras.models import model_from_json\n",
        "from keras.models import load_model\n",
        "import matplotlib.pyplot as plt\n",
        " \n",
        "# Opening the files about data\n",
        "X = pickle.load(open(\"X.pickle\", \"rb\"))\n",
        "y = pickle.load(open(\"y.pickle\", \"rb\"))\n",
        " \n",
        " \n",
        "# normalizing data (a pixel goes from 0 to 255)\n",
        "X = X/255.0\n",
        " \n",
        "# Building the model\n",
        "model = Sequential()\n",
        "# 3 convolutional layers\n",
        "model.add(Conv2D(32, (3, 3), input_shape = X.shape[1:]))\n",
        "model.add(Activation(\"relu\"))\n",
        "model.add(MaxPooling2D(pool_size=(2,2)))\n",
        " \n",
        " \n",
        " \n",
        " \n",
        "model.add(Dropout(0.25))\n",
        " \n",
        "# 2 hidden layers\n",
        "model.add(Flatten())\n",
        "model.add(Dense(128))\n",
        "model.add(Activation(\"relu\"))\n",
        " \n",
        "model.add(Dense(128))\n",
        "model.add(Activation(\"relu\"))\n",
        " \n",
        "\n",
        "model.add(Dense(2))\n",
        "model.add(Activation(\"softmax\"))\n",
        " \n",
        "# Compiling the model using some basic parameters\n",
        "model.compile(loss=\"sparse_categorical_crossentropy\",\n",
        "                optimizer=\"adam\",\n",
        "                metrics=[\"accuracy\"]\n",
        "               )\n",
        "                \n",
        " \n",
        "# Training the model\n",
        "history = model.fit(X, y, batch_size=20, epochs=30, validation_split=0.2)\n",
        "# Saving the model\n",
        "model_json = model.to_json()\n",
        "with open(\"model.json\", \"w\") as json_file :\n",
        "    json_file.write(model_json)\n",
        " \n",
        "model.save_weights(\"model.h5\")\n",
        "print(\"Saved model to disk\")\n",
        "\n",
        "\n"
      ],
      "execution_count": null,
      "outputs": [
        {
          "output_type": "stream",
          "text": [
            "Epoch 1/30\n",
            "8/8 [==============================] - 1s 64ms/step - loss: 0.7139 - accuracy: 0.5551 - val_loss: 0.7366 - val_accuracy: 0.4444\n",
            "Epoch 2/30\n",
            "8/8 [==============================] - 0s 46ms/step - loss: 0.5330 - accuracy: 0.8032 - val_loss: 0.6764 - val_accuracy: 0.5556\n",
            "Epoch 3/30\n",
            "8/8 [==============================] - 0s 45ms/step - loss: 0.5226 - accuracy: 0.6916 - val_loss: 0.7240 - val_accuracy: 0.5556\n",
            "Epoch 4/30\n",
            "8/8 [==============================] - 0s 46ms/step - loss: 0.5881 - accuracy: 0.6755 - val_loss: 0.4146 - val_accuracy: 0.7500\n",
            "Epoch 5/30\n",
            "8/8 [==============================] - 0s 46ms/step - loss: 0.3349 - accuracy: 0.8779 - val_loss: 0.6028 - val_accuracy: 0.5278\n",
            "Epoch 6/30\n",
            "8/8 [==============================] - 0s 45ms/step - loss: 0.3123 - accuracy: 0.8525 - val_loss: 0.2512 - val_accuracy: 0.9167\n",
            "Epoch 7/30\n",
            "8/8 [==============================] - 0s 48ms/step - loss: 0.1334 - accuracy: 0.9815 - val_loss: 0.1894 - val_accuracy: 0.9444\n",
            "Epoch 8/30\n",
            "8/8 [==============================] - 0s 46ms/step - loss: 0.1087 - accuracy: 0.9900 - val_loss: 0.1218 - val_accuracy: 0.9722\n",
            "Epoch 9/30\n",
            "8/8 [==============================] - 0s 46ms/step - loss: 0.0597 - accuracy: 1.0000 - val_loss: 0.2673 - val_accuracy: 0.9444\n",
            "Epoch 10/30\n",
            "8/8 [==============================] - 0s 49ms/step - loss: 0.0814 - accuracy: 0.9808 - val_loss: 0.1002 - val_accuracy: 0.9722\n",
            "Epoch 11/30\n",
            "8/8 [==============================] - 0s 47ms/step - loss: 0.0330 - accuracy: 1.0000 - val_loss: 0.0399 - val_accuracy: 1.0000\n",
            "Epoch 12/30\n",
            "8/8 [==============================] - 0s 45ms/step - loss: 0.0106 - accuracy: 1.0000 - val_loss: 0.0287 - val_accuracy: 1.0000\n",
            "Epoch 13/30\n",
            "8/8 [==============================] - 0s 48ms/step - loss: 0.0089 - accuracy: 1.0000 - val_loss: 0.0205 - val_accuracy: 1.0000\n",
            "Epoch 14/30\n",
            "8/8 [==============================] - 0s 47ms/step - loss: 0.0045 - accuracy: 1.0000 - val_loss: 0.0260 - val_accuracy: 1.0000\n",
            "Epoch 15/30\n",
            "8/8 [==============================] - 0s 47ms/step - loss: 0.0334 - accuracy: 0.9896 - val_loss: 0.1906 - val_accuracy: 0.9444\n",
            "Epoch 16/30\n",
            "8/8 [==============================] - 0s 46ms/step - loss: 0.0562 - accuracy: 0.9681 - val_loss: 0.0105 - val_accuracy: 1.0000\n",
            "Epoch 17/30\n",
            "8/8 [==============================] - 0s 65ms/step - loss: 0.0097 - accuracy: 1.0000 - val_loss: 0.0138 - val_accuracy: 1.0000\n",
            "Epoch 18/30\n",
            "8/8 [==============================] - 0s 46ms/step - loss: 0.0027 - accuracy: 1.0000 - val_loss: 0.0170 - val_accuracy: 1.0000\n",
            "Epoch 19/30\n",
            "8/8 [==============================] - 0s 47ms/step - loss: 0.0026 - accuracy: 1.0000 - val_loss: 0.0329 - val_accuracy: 0.9722\n",
            "Epoch 20/30\n",
            "8/8 [==============================] - 0s 46ms/step - loss: 0.0046 - accuracy: 1.0000 - val_loss: 0.0068 - val_accuracy: 1.0000\n",
            "Epoch 21/30\n",
            "8/8 [==============================] - 0s 45ms/step - loss: 9.3825e-04 - accuracy: 1.0000 - val_loss: 0.0049 - val_accuracy: 1.0000\n",
            "Epoch 22/30\n",
            "8/8 [==============================] - 0s 48ms/step - loss: 9.4999e-04 - accuracy: 1.0000 - val_loss: 0.0049 - val_accuracy: 1.0000\n",
            "Epoch 23/30\n",
            "8/8 [==============================] - 0s 47ms/step - loss: 9.5635e-04 - accuracy: 1.0000 - val_loss: 0.0031 - val_accuracy: 1.0000\n",
            "Epoch 24/30\n",
            "8/8 [==============================] - 0s 46ms/step - loss: 5.6425e-04 - accuracy: 1.0000 - val_loss: 0.0035 - val_accuracy: 1.0000\n",
            "Epoch 25/30\n",
            "8/8 [==============================] - 0s 46ms/step - loss: 5.4962e-04 - accuracy: 1.0000 - val_loss: 0.0032 - val_accuracy: 1.0000\n",
            "Epoch 26/30\n",
            "8/8 [==============================] - 0s 49ms/step - loss: 5.0128e-04 - accuracy: 1.0000 - val_loss: 0.0026 - val_accuracy: 1.0000\n",
            "Epoch 27/30\n",
            "8/8 [==============================] - 0s 47ms/step - loss: 3.6082e-04 - accuracy: 1.0000 - val_loss: 0.0024 - val_accuracy: 1.0000\n",
            "Epoch 28/30\n",
            "8/8 [==============================] - 0s 46ms/step - loss: 4.1793e-04 - accuracy: 1.0000 - val_loss: 0.0023 - val_accuracy: 1.0000\n",
            "Epoch 29/30\n",
            "8/8 [==============================] - 0s 46ms/step - loss: 3.5826e-04 - accuracy: 1.0000 - val_loss: 0.0022 - val_accuracy: 1.0000\n",
            "Epoch 30/30\n",
            "8/8 [==============================] - 0s 46ms/step - loss: 2.3877e-04 - accuracy: 1.0000 - val_loss: 0.0021 - val_accuracy: 1.0000\n",
            "Saved model to disk\n"
          ],
          "name": "stdout"
        }
      ]
    },
    {
      "cell_type": "markdown",
      "metadata": {
        "id": "93Juw7zmpfel"
      },
      "source": [
        "Evaluating the accuracy of the model :\n",
        "Our model's accuracy is 100 % with batch\n",
        "\n",
        "\n"
      ]
    },
    {
      "cell_type": "code",
      "metadata": {
        "colab": {
          "base_uri": "https://localhost:8080/"
        },
        "id": "nhONUk8dfKsA",
        "outputId": "82497af6-5210-4a12-a5a9-9578f8fc3f71"
      },
      "source": [
        "test_loss, test_acc = model.evaluate(X,y,verbose=2)\n",
        "\n",
        "print('\\nTest accuracy:', test_acc)"
      ],
      "execution_count": null,
      "outputs": [
        {
          "output_type": "stream",
          "text": [
            "6/6 - 0s - loss: 6.3824e-04 - accuracy: 1.0000\n",
            "\n",
            "Test accuracy: 1.0\n"
          ],
          "name": "stdout"
        }
      ]
    },
    {
      "cell_type": "markdown",
      "metadata": {
        "id": "iWUHv_aeoT3W"
      },
      "source": [
        "\n",
        "Getting the labels of all the shapes' features (rhombus and square)present in X"
      ]
    },
    {
      "cell_type": "code",
      "metadata": {
        "id": "ts7LuRT3fPwR"
      },
      "source": [
        "probability_model = tf.keras.Sequential([model, \n",
        "                                         tf.keras.layers.Softmax()])\n",
        "predictions = probability_model.predict(X)"
      ],
      "execution_count": null,
      "outputs": []
    },
    {
      "cell_type": "markdown",
      "metadata": {
        "id": "3h3oDBpGojXI"
      },
      "source": [
        "Predicting for a Rhombus---it can be seen the model is confident that the given shape with index 20 is a rhombus 72% for sure whereas its confident for 28% that its a square...thus its a rhombus"
      ]
    },
    {
      "cell_type": "code",
      "metadata": {
        "colab": {
          "base_uri": "https://localhost:8080/"
        },
        "id": "IGuXY8JbfU3f",
        "outputId": "6792c833-43c7-4496-faf3-4776d6a69d4d"
      },
      "source": [
        "predictions[20]"
      ],
      "execution_count": null,
      "outputs": [
        {
          "output_type": "execute_result",
          "data": {
            "text/plain": [
              "array([0.7310363 , 0.26896366], dtype=float32)"
            ]
          },
          "metadata": {
            "tags": []
          },
          "execution_count": 249
        }
      ]
    },
    {
      "cell_type": "markdown",
      "metadata": {
        "id": "rv08Ohsoo_WO"
      },
      "source": [
        "Evaluating our prediction---the return is 0 i.e. the shape with index 20 is a rhombus in fact. the answer is 0 because our class(CATEGORIES) array is ['Rhombus','Square']=index[0,1].\n",
        "Therefore our model is working and is predicting with a satisfactory precision"
      ]
    },
    {
      "cell_type": "code",
      "metadata": {
        "colab": {
          "base_uri": "https://localhost:8080/"
        },
        "id": "olPR2ETFfa0h",
        "outputId": "c0cfe02f-0251-4f00-d24f-727cc75e9a36"
      },
      "source": [
        "y[20]"
      ],
      "execution_count": null,
      "outputs": [
        {
          "output_type": "execute_result",
          "data": {
            "text/plain": [
              "0"
            ]
          },
          "metadata": {
            "tags": []
          },
          "execution_count": 250
        }
      ]
    },
    {
      "cell_type": "markdown",
      "metadata": {
        "id": "hbTv4IbVpHiO"
      },
      "source": [
        "Predicting Square----Same as the Rhombus,this time its a Square."
      ]
    },
    {
      "cell_type": "code",
      "metadata": {
        "colab": {
          "base_uri": "https://localhost:8080/"
        },
        "id": "mO_jvtGcnUc_",
        "outputId": "0721fba8-8bca-45ff-b426-3732ae77a18b"
      },
      "source": [
        "predictions[170]"
      ],
      "execution_count": null,
      "outputs": [
        {
          "output_type": "execute_result",
          "data": {
            "text/plain": [
              "array([0.7283819 , 0.27161807], dtype=float32)"
            ]
          },
          "metadata": {
            "tags": []
          },
          "execution_count": 251
        }
      ]
    },
    {
      "cell_type": "markdown",
      "metadata": {
        "id": "O_OLVm35rVHb"
      },
      "source": [
        "The shape with index 170 is a Square thus right prediction."
      ]
    },
    {
      "cell_type": "code",
      "metadata": {
        "colab": {
          "base_uri": "https://localhost:8080/"
        },
        "id": "7T0uOGOZrUA1",
        "outputId": "da3eea24-9b34-4512-a8db-59137950ed95"
      },
      "source": [
        "y[170]"
      ],
      "execution_count": null,
      "outputs": [
        {
          "output_type": "execute_result",
          "data": {
            "text/plain": [
              "0"
            ]
          },
          "metadata": {
            "tags": []
          },
          "execution_count": 252
        }
      ]
    }
  ]
}